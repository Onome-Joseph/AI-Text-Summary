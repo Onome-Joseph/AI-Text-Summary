{
 "cells": [
  {
   "cell_type": "markdown",
   "id": "95c29ce2-2076-4c24-ad90-a3ea5a328cba",
   "metadata": {},
   "source": [
    "# NLP SUMMARISATION SYSTEM"
   ]
  },
  {
   "cell_type": "markdown",
   "id": "c5a24f23-fabb-4a0c-b3da-1a2fbc2177df",
   "metadata": {},
   "source": [
    "- ## Summarizes the input article by calculating sentence scores based on word frequencies and selecting the top sentences.\n",
    "- ## article (str): The input article text to summarize.\n",
    "- ## summary_length (int): Number of sentences to include in the summary.    \n",
    "- ## Return: A summary of the article."
   ]
  },
  {
   "cell_type": "code",
   "execution_count": 29,
   "id": "0e00c8ef-d8c2-4a28-b321-b7f19b99e307",
   "metadata": {},
   "outputs": [],
   "source": [
    "import heapq\n",
    "from nltk.tokenize import word_tokenize, sent_tokenize\n",
    "from nltk.corpus import stopwords\n",
    "import re"
   ]
  },
  {
   "cell_type": "code",
   "execution_count": 55,
   "id": "ff58a725-4cd2-48e4-9a61-7ae03f9a6a67",
   "metadata": {},
   "outputs": [],
   "source": [
    "def summarize_article(article, summary_length):\n",
    "  \n",
    "   # Replace all double quotes with single quotes\n",
    "    article = article.replace('\"', \"'\")\n",
    "    \n",
    "    # Tokenize the article into sentences\n",
    "    sentences = sent_tokenize(article)\n",
    "\n",
    "    # Remove URLs and links with underscores\n",
    "    article = re.sub(r'https?://\\\\S+|www\\\\.\\\\S+|__\\\\S+__', '', article)\n",
    "    \n",
    "    # Tokenize words and calculate word frequencies\n",
    "    words = word_tokenize(article)\n",
    "    stop_words = set(stopwords.words('english'))\n",
    "    frequency = {}\n",
    "    \n",
    "    for word in words:\n",
    "        word = word.lower()\n",
    "        if word.isalpha() and word not in stop_words:  # Only consider alphabetic words not in stopwords\n",
    "            frequency[word] = frequency.get(word, 0) + 1\n",
    "    \n",
    "    # Normalize word frequencies\n",
    "    if frequency:\n",
    "        max_frequency = max(frequency.values())\n",
    "        for word in frequency:\n",
    "            frequency[word] /= max_frequency\n",
    "\n",
    "    # Calculate sentence scores\n",
    "    sentence_scores = {}\n",
    "    for sent in sentences:\n",
    "        for word in set(word_tokenize(sent)):  # Use set to avoid double-counting\n",
    "            if word.lower() in frequency:\n",
    "                if len(sent.split()) < 30:  # Ignore overly long sentences\n",
    "                    sentence_scores[sent] = sentence_scores.get(sent, 0) + frequency[word.lower()]\n",
    "    \n",
    "    # Select the top sentences for the summary\n",
    "    summary_sentences = heapq.nlargest(summary_length, sentence_scores, key=sentence_scores.get)\n",
    "    summary = ' '.join(summary_sentences)\n",
    "    \n",
    "    return summary\n"
   ]
  },
  {
   "cell_type": "markdown",
   "id": "0266f951-b77f-481e-ae36-d4385ce6d10f",
   "metadata": {},
   "source": [
    "## Example 1: An article on **'The Real World of College: What Higher Education Is and What It Can Be'**. The full article can be found at ; https://www.tandfonline.com/doi/full/10.1080/23753234.2024.2394654"
   ]
  },
  {
   "cell_type": "code",
   "execution_count": 56,
   "id": "05f50b83-7cc4-4ef5-a8e0-2540e52d53a6",
   "metadata": {
    "scrolled": true
   },
   "outputs": [],
   "source": [
    "article = \"In the dynamic and evolving scenario of the global educational landscape, the irruption of online learning platforms and the consequent democratization of knowledge have brought a paradigm shift in terms of the accessibility of knowledge, as well as in the shaping of professional skills. The proliferation of digital certifications, e-learning venues, and the rise of Massive Open Online Courses (MOOCs)—exacerbated by the COVID-19 pandemic—has delineated a substantial transformation in the educational model. This phenomenon suggests the possibility of replacing traditional face-to-face teaching with more autonomous modalities, transcending the usual face-to-face/digital dichotomy and the conventional hierarchical structure with more horizontal approaches to education. Does this evolution, however, imply a genuine redefinition of the very purpose and essence of education? Is it possible to fully replace the content delivered in a face-to-face environment with the knowledge acquired through digital media and autonomous distance learning? Furthermore, why should a person commit to the considerable costs associated with years of formal education, when there are more accessible and faster course options that promise to provide the essential ‘skills’ needed to secure job opportunities? The Real World of College boldly tackles these complexities by rethinking the idea of college in a world where economic uncertainty, social upheaval, and the pervasiveness of advanced technologies have left higher education in a state of constant redefinition. The book feeds on an eight-year study, from a decade ago, across ten non-vocational higher education colleges (including small liberal arts colleges and universities) with liberal arts and science programs in the United States (an undergraduate engineering school was also used for comparison), in which the authors interviewed around 2000 students, administrators, parents, etc. The fundamental question, for them, is not just about acquiring employability skills but exploring how education can become a beacon for personal, social, and civic transformation amid the turbulence of modern communities. The book is divided into two main parts. After a thorough review of the nature of learning and teaching in modern universities, Wendy Fischman and Howard Gardner address the evolving nature of universities by emphasizing the importance of intellectual growth, ethical development, and the cultivation of moral guidance. Their primary concern is to advocate for a non-vocational, liberal arts-based education in colleges and universities. They believe that such a broad-based education is the best platform for the wide range of jobs and career opportunities that will be available in the future (Introduction, x). Therefore, they consider it central that education should be based on: (1) academic learning rather than the construction of a curriculum or participation in extracurricular activities, (2) intellectual engagement with a variety of theories that make it possible to understand the various facets of the world, (3) the strengthening of ethics as the core of education, and (4) the reinforcement of liberal arts encompassing interdisciplinary studies, communicative skills, analytical and critical thinking, understanding of different ways to contribute to society as informed, active, and reflective citizen (44, 45). In the first chapters of the book, the authors delve into the nature of learning and teaching in modern universities. Based on an analysis of the challenges and opportunities that define the current era of higher education, Fischman and Gardner criticize the increasing commercialization of education as well as the increased focus on vocational training at the expense of a more holistic approach. The attractiveness of subjects such as Humanities and Social Sciences is being increasingly undermined by prompt specialization in business or STEM (science, technology, engineering, and mathematics), which promise greater profitability (27). A key proposal is their analysis of Higher Education Capital (HEDCAP) as a parameter that measures the enhancement of the value or intellectual capital that a university provides to its students by focusing on an individual’s ability to analyze information, synthesize, and effectively communicate what is thought and why it is thought (73 et seq.). The authors’ thesis is that there is a direct relationship between HEDCAP and the mental models through which students approach college. Whether inertial (college is seen as the next step in the educational trajectory for students with no major aspirations), transactional (the student does only what is necessary in college to obtain a degree to secure a job or access to a graduate degree), exploratory (the student sees college as a place to learn about different fields and try new activities), or transformational (those who see college as a place to reflect on their own values and beliefs, with the hope of fundamentally transforming themselves), students with a transformational view tend to have higher HEDCAP. This implies that students who are more prone to exploration, study, and reflection, are more likely to succeed not only in the workplace but also in the social and personal realm, becoming persons of integrity and more beneficial to their environment. However, is there a way to achieve this goal in a university that still values face-to-face teaching and conceives professors as agents whose role goes beyond that of a mere facilitator? In the authors’ opinion, there is. The basis for adapting education to the new digital era without losing its essence lies in recovering the meaning of education through the constant affirmation of the academic program and the university’s guiding mission. A first step in achieving this is for universities to avoid ‘mission sprawl’ at all costs. Over time, universities have adopted too many objectives. This branching has led to a weakening of their identity and core mission. The tendency towards ‘projectitis’, understood as the false need to create more extracurricular activities to attract prospective students, exacerbates mission dispersion. An excess of projects, programs, and activities obscures the reason why a student decides to attend the university. An institution functions best when everyone involved is aware of the mission and goals, agrees with them, and works together to achieve them. The authors’ goal throughout the book, therefore, is to lay the groundwork for an integral and transformative educational experience that balances vocational education with the liberal arts, emphasizing ethical development and intellectual rigor. The need for higher education to adapt to the rapidly changing global landscape does not imply an abdication or departure from its mission. The Real World of College is not just another critique of technical education but a diagnosis that combines empirical data with theoretical reflection to argue for the importance of higher education institutions reevaluating and reforming their practices. Such self-examination aims to ensure that universities are effectively fulfilling their mission of preparing students not only for professional success but also for a life of thoughtful, ethical, and active citizenship. A main issue of the book, however, may be its cautious, almost implicit critique of ‘success’. According to the authors, good work should imply an alignment of values and goals; instead, students have become ‘transactional’: success is their main goal. The authors strain to explain what the actual goal of education should be; indeed, they claim ‘the academic benefits of a college education prove difficult to demonstrate’ (10); moreover, they acknowledge that they had ‘strong beliefs’ about education, but these only ‘emerge clearly and vividly until we had largely finished data collection and were trying to make sense of our findings’ (46). HEDCAP is employed as a technical concept that encompasses the expected results of liberal education, namely, the ability to ‘create or amplify intellectual capital that ideally should last and be drawn upon for a lifetime’ (68), but unless they explain why this is the case, they could be accused of also following a utilitarian explanation: without HEDCAP, a developed country such as the US would lose the capacity to innovate and continue improving on its citizens’ welfare. (The term capital seems to imply a reading in this direction, even if they distinguish ‘capital of the mind’ from financial, social and cultural capital, precisely because they do so.) In that vein, they do not directly offer a firm alternative or a definitive vision of liberal education to not overstep the boundaries of their research and propose academic changes; rather, they trust that faculty and staff members will strive to improve HEDCAP. While they offer suggestions that align with solid views on liberal arts education, this is not a foundational defense of knowledge for the sake of itself. They do offer a broad explanation of how this may have happened, though. From the original mission of American colleges as training grounds for religious leaders, going through the Humboldtian-German model of research universities, the authors in a way decry the gradual pragmatic turn of higher universities in the last century. This does not come without its advantages: the G.I. Bill, the popularization of higher education for working-class students, women, and minorities, etc. But it did inject a strain of utilitarianism in colleges, which in turn met with increasing costs since the 1970s and an encroaching job market, making it hard to ‘justify’ a liberal education. The authors recognize that ‘higher education should be principally about the acquisition of new ways of thinking and the possibility of significant personal transformations—and not primarily about athletics, club leadership, specific career paths, or other societal markers of success’ (40), but it is not at all clear why. In other words, higher education has gradually turned into vocational education. Thus, there is a clear limitation in the book, namely, why should we still care about liberal arts? The book itself provides, in a way, a negatively clear case of the effects of a society that lacks a strong emphasis on liberal education, ranging from students’ mental health to the experience of alienation, etc. Hence, the book is consciously limited but not in a negative way: it should be taken as a challenge to think more deeply about what makes higher education worthy. The authors raise this challenge to students themselves (‘you should be open to change what you think about, how you think about it, what you admire, what you worry about, what kind of a person you are, how you strike others’, 227), but this is a question that should inspire serious questions at a larger scale. In essence, this book is a call to ‘go back to basics’. For Fischman and Gardner, the academic program and its guiding mission should be the primary concern of all members of nonvocational colleges and universities. Recovering the true meaning of higher education will be the differentiator these institutions need to attract talent and people that align with their values and goals. Ultimately, restoring the genuine meaning of higher education functions as an essential catalyst that these institutions must embrace holistically. This revitalization will not only reaffirm their relevance in a world marked by uncertainty but also make them more attractive to those students whose aspirations and principles align with the authentic mission of higher education. In this challenge to reclaim their true meaning, these institutions will not only be strengthened but also transformed into beacons that guide individuals toward a more meaningful and enriching educational future.\""
   ]
  },
  {
   "cell_type": "code",
   "execution_count": 57,
   "id": "06cb9014-7813-4add-b9b3-8d5e51e26548",
   "metadata": {},
   "outputs": [],
   "source": [
    "summary_length=7            # No of sentences"
   ]
  },
  {
   "cell_type": "code",
   "execution_count": 58,
   "id": "3ffd7045-a7d1-48ff-9a7b-bc4a5c527960",
   "metadata": {},
   "outputs": [
    {
     "data": {
      "text/plain": [
       "'Recovering the true meaning of higher education will be the differentiator these institutions need to attract talent and people that align with their values and goals. Hence, the book is consciously limited but not in a negative way: it should be taken as a challenge to think more deeply about what makes higher education worthy. The need for higher education to adapt to the rapidly changing global landscape does not imply an abdication or departure from its mission. Ultimately, restoring the genuine meaning of higher education functions as an essential catalyst that these institutions must embrace holistically. Bill, the popularization of higher education for working-class students, women, and minorities, etc. Their primary concern is to advocate for a non-vocational, liberal arts-based education in colleges and universities. While they offer suggestions that align with solid views on liberal arts education, this is not a foundational defense of knowledge for the sake of itself.'"
      ]
     },
     "execution_count": 58,
     "metadata": {},
     "output_type": "execute_result"
    }
   ],
   "source": [
    "summarize_article(article, summary_length)"
   ]
  },
  {
   "cell_type": "markdown",
   "id": "9c9f742b-22f0-4f99-8fe5-a0ae891365ef",
   "metadata": {},
   "source": [
    "## Example 2: A BBC article on **'Why Musk cares about Britain'**. The full article can be found at ; https://www.bbc.com/news/articles/cy7kpvndyyxo"
   ]
  },
  {
   "cell_type": "code",
   "execution_count": 60,
   "id": "dd7e767c-695e-474c-bcdd-1844c1fcd848",
   "metadata": {},
   "outputs": [],
   "source": [
    "article = \"\"\"Musk's interest in UK affairs could be a reflection of how his own political beliefs have changed. He previously described himself as a centrist and even donated to Hillary Clinton's campaign, but now he talks a lot about the \"woke mind virus\". According to interviews he's given and a recent biography, the transition of one of his children from male to female - and that child, Vivian Wilson, subsequently cutting him off from her life - appears to be one of the key turning points. Winston Marshall, a former Mumford & Sons guitarist turned podcast host and right-leaning political commentator whose father jointly owns TV channel GB News, speculates that Musk could be picking fights because \"he cares very deeply about the UK\". \"Britain is the birthplace of liberal democracy, of many of the great philosophies that underpin America,\" Marshall says. \"So then he looks over to the UK and he sees what's been going on for several years, but which is now crescendoing after the August riots, with many, many people being given long jail sentences for literally Facebook memes in some cases.\" \"Facebook memes\" sounds pretty harmless but these examples include - for instance - a three-month jail sentence for a person who posted a meme along with the caption \"let's [expletive] riot\" on a Facebook group with \"riot/protest\" in the name during the Southport disorder.Some question whether the tycoon is really as committed to free speech as he claims. The Center for Countering Digital Hate, which scrutinises social media companies, was critical of Musk's tenure at X - prompting the tycoon to sue, accusing the organisation of misusing data and scaring off advertisers. The case was thrown out by a US judge. Its CEO Imran Ahmed called the incident \"indicative of the mindset of a man who simply cannot understand that freedom of speech is a freedom afforded to all, not just to him\". Other critics have pointed out that Musk has been careful not to criticise the president of China, a country where Tesla has huge business interests, despite Beijing's well-documented culture of censorship. He has far less at stake, business-wise, in Britain, but the country could still affect his bottom line via the Online Safety Act, passed by Parliament in late 2023. It will allow regulator Ofcom to issue huge fines to social media companies if they're found to have certain types of illegal content on their platforms. Andrew Chadwick, professor of political communication at Loughborough University, explains that while some provisions in the bill are uncontroversial, \"where it gets a bit more tricky is where this illegal content blurs across into what we might call the kinds of disinformation or misinformation that we see circulate on a daily basis on social media platforms\". This could include \"racially or religiously aggravated public order offences or the incitement of violence,\" he says. The Act comes with some potentially huge punishments – a fine of up to 10% of qualifying worldwide revenue. Could it be that Musk is worried about Britain biting off a chunk of X's revenues – or even, as the Act allows for in some circumstances, blocking access to the site in the UK? Defenders of the Act argue that it's got nothing to do with censoring free speech. Gawain Towler, former head of press for Reform UK, says while Musk might not have \"a forensic knowledge of all the details of backbench committee\" he does \"see the bigger picture\" – what Reform activists and others describe as a creeping culture of censorship. \"You don't have to concentrate always on the trees. And I think Musk sees the forest quite, quite well,\" he adds. Nobody can read the mind of the world's richest man. But it's clear that Musk has funnelled his vast wealth into influence and is now exporting his values – including a mainstream American view of free speech and largely unfettered capitalism – around the world. And one thing's for sure – he's not yet done with the UK.\"\"\""
   ]
  },
  {
   "cell_type": "code",
   "execution_count": 61,
   "id": "ff3d4aa9-a731-4888-a494-876e24fced69",
   "metadata": {},
   "outputs": [],
   "source": [
    "summary_length=10      # No of sentences "
   ]
  },
  {
   "cell_type": "code",
   "execution_count": 62,
   "id": "b510cd18-e059-42b0-85da-e16fb9b8b1c1",
   "metadata": {},
   "outputs": [
    {
     "data": {
      "text/plain": [
       "\"Musk's interest in UK affairs could be a reflection of how his own political beliefs have changed. He has far less at stake, business-wise, in Britain, but the country could still affect his bottom line via the Online Safety Act, passed by Parliament in late 2023. It will allow regulator Ofcom to issue huge fines to social media companies if they're found to have certain types of illegal content on their platforms. This could include 'racially or religiously aggravated public order offences or the incitement of violence,' he says. Defenders of the Act argue that it's got nothing to do with censoring free speech. And I think Musk sees the forest quite, quite well,' he adds. 'Britain is the birthplace of liberal democracy, of many of the great philosophies that underpin America,' Marshall says. He previously described himself as a centrist and even donated to Hillary Clinton's campaign, but now he talks a lot about the 'woke mind virus'. The Act comes with some potentially huge punishments – a fine of up to 10% of qualifying worldwide revenue. And one thing's for sure – he's not yet done with the UK.\""
      ]
     },
     "execution_count": 62,
     "metadata": {},
     "output_type": "execute_result"
    }
   ],
   "source": [
    "summarize_article(article, summary_length)"
   ]
  }
 ],
 "metadata": {
  "kernelspec": {
   "display_name": "Python 3 (ipykernel)",
   "language": "python",
   "name": "python3"
  },
  "language_info": {
   "codemirror_mode": {
    "name": "ipython",
    "version": 3
   },
   "file_extension": ".py",
   "mimetype": "text/x-python",
   "name": "python",
   "nbconvert_exporter": "python",
   "pygments_lexer": "ipython3",
   "version": "3.11.3"
  }
 },
 "nbformat": 4,
 "nbformat_minor": 5
}
